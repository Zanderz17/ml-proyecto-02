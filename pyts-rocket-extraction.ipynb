{
 "cells": [
  {
   "cell_type": "code",
   "execution_count": 1,
   "metadata": {},
   "outputs": [],
   "source": [
    "import h5py\n",
    "import numpy as np\n",
    "import pandas as pd\n",
    "from pyts.transformation import ROCKET"
   ]
  },
  {
   "cell_type": "markdown",
   "metadata": {},
   "source": [
    "### Feature extraction using ROCKET"
   ]
  },
  {
   "cell_type": "code",
   "execution_count": null,
   "metadata": {},
   "outputs": [],
   "source": [
    "with h5py.File('./human-activity/test.h5', 'r') as f: #open h5py test set file\n",
    "    total_acc_x = f['total_acc_x'][()]\n",
    "    total_acc_y = f['total_acc_y'][()]\n",
    "    total_acc_z = f['total_acc_z'][()]\n",
    "\n",
    "    body_acc_x = f['body_acc_x'][()]\n",
    "    body_acc_y = f['body_acc_y'][()]\n",
    "    body_acc_z = f['body_acc_z'][()]\n",
    "\n",
    "    body_gyro_x = f['body_gyro_x'][()]\n",
    "    body_gyro_y = f['body_gyro_y'][()]\n",
    "    body_gyro_z = f['body_gyro_z'][()]\n",
    "\n",
    "# Concatenate features\n",
    "kaggle_test_set = np.concatenate((total_acc_x, total_acc_y, total_acc_z,\n",
    "                    body_acc_x, body_acc_y, body_acc_z,\n",
    "                    body_gyro_x, body_gyro_y, body_gyro_z), axis=1)\n",
    "\n",
    "n_ker = 1000\n",
    "rocket = ROCKET(n_kernels=n_ker)\n",
    "print(\"shape before rocket: \" , kaggle_test_set.shape)\n",
    "kaggle_test_set = rocket.fit_transform(kaggle_test_set) \n",
    "print(\"shape after rocket: \", kaggle_test_set.shape)\n",
    "\n",
    "# Save Rocket features\n",
    "np.savetxt(f'rocket_{n_ker*2}.csv', kaggle_test_set, delimiter=',')"
   ]
  },
  {
   "cell_type": "code",
   "execution_count": null,
   "metadata": {},
   "outputs": [],
   "source": [
    "# Check if everything is correct\n",
    "rocket_feats = pd.read_csv(f\"rocket_{n_ker*2}.csv\")\n",
    "print(rocket_feats.shape)"
   ]
  }
 ],
 "metadata": {
  "kernelspec": {
   "display_name": "Python 3",
   "language": "python",
   "name": "python3"
  },
  "language_info": {
   "codemirror_mode": {
    "name": "ipython",
    "version": 3
   },
   "file_extension": ".py",
   "mimetype": "text/x-python",
   "name": "python",
   "nbconvert_exporter": "python",
   "pygments_lexer": "ipython3",
   "version": "3.10.5"
  }
 },
 "nbformat": 4,
 "nbformat_minor": 2
}
