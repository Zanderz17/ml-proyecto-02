{
 "cells": [
  {
   "cell_type": "code",
   "execution_count": 1,
   "metadata": {},
   "outputs": [],
   "source": [
    "import pandas as pd\n",
    "import numpy as np\n",
    "import h5py"
   ]
  },
  {
   "cell_type": "code",
   "execution_count": null,
   "metadata": {},
   "outputs": [],
   "source": [
    "df = pd.read_csv('rocket_full_trainset.csv', header=None).values"
   ]
  },
  {
   "cell_type": "code",
   "execution_count": null,
   "metadata": {},
   "outputs": [],
   "source": [
    "with h5py.File('../../Data/human-activity/train.h5', 'r') as f:\n",
    "  y = f['y'][()]\n",
    "\n",
    "target = pd.DataFrame(y, columns=['target'])\n",
    "target  = target[\"target\"]"
   ]
  },
  {
   "cell_type": "code",
   "execution_count": 7,
   "metadata": {},
   "outputs": [],
   "source": [
    "X_train = df\n",
    "y_train = target"
   ]
  },
  {
   "cell_type": "code",
   "execution_count": null,
   "metadata": {},
   "outputs": [],
   "source": [
    "X_test = pd.read_csv(\"kaggle_test_1000.csv\", header=None).values"
   ]
  },
  {
   "cell_type": "markdown",
   "metadata": {},
   "source": [
    "## Modelo LR"
   ]
  },
  {
   "cell_type": "code",
   "execution_count": 11,
   "metadata": {},
   "outputs": [],
   "source": [
    "from models.lr import *"
   ]
  },
  {
   "cell_type": "code",
   "execution_count": 23,
   "metadata": {},
   "outputs": [],
   "source": [
    "def map_labels(y):\n",
    "    unique_labels = np.unique(y)\n",
    "    label_map = {label: idx for idx, label in enumerate(unique_labels)}\n",
    "    return np.vectorize(label_map.get)(y), label_map\n",
    "\n",
    "def reverse_map_labels(y_mapped, label_map):\n",
    "    reverse_label_map = {idx: label for label, idx in label_map.items()}\n",
    "    return np.vectorize(reverse_label_map.get)(y_mapped)"
   ]
  },
  {
   "cell_type": "code",
   "execution_count": 12,
   "metadata": {},
   "outputs": [
    {
     "name": "stdout",
     "output_type": "stream",
     "text": [
      "Training complete\n",
      "Final training loss: 0.27243661019501497\n"
     ]
    }
   ],
   "source": [
    "# Map labels to a contiguous range starting from 0\n",
    "Y_train, train_label_map = map_labels(y_train)\n",
    "\n",
    "# Verify label range\n",
    "num_classes = len(np.unique(Y_train))\n",
    "if np.any(Y_train >= num_classes) or np.any(Y_train < 0):\n",
    "    raise ValueError(\"Labels in Y_train are out of bounds for the number of classes\")\n",
    "\n",
    "\n",
    "# Train the model\n",
    "model = SoftmaxRegression()\n",
    "epochs = 2000\n",
    "alpha = 0.01\n",
    "loss_values, weights = model.training(X_train, Y_train, epochs, alpha)\n",
    "\n",
    "# Predictions\n",
    "test_predictions = model.predict(X_test, weights)\n",
    "\n",
    "# Evaluate the model\n",
    "print(\"Training complete\")\n",
    "print(\"Final training loss:\", loss_values[-1])"
   ]
  },
  {
   "cell_type": "code",
   "execution_count": 24,
   "metadata": {},
   "outputs": [
    {
     "name": "stdout",
     "output_type": "stream",
     "text": [
      "(2947,)\n",
      "[1. 2. 3. 4. 5. 6.]\n"
     ]
    }
   ],
   "source": [
    "# \n",
    "Y_train_original = reverse_map_labels(test_predictions, train_label_map)\n",
    "print(Y_train_original.shape)\n",
    "print(np.unique(Y_train_original))"
   ]
  },
  {
   "cell_type": "code",
   "execution_count": 22,
   "metadata": {},
   "outputs": [
    {
     "name": "stdout",
     "output_type": "stream",
     "text": [
      "Array guardado en output.csv con el formato especificado.\n"
     ]
    }
   ],
   "source": [
    "df2 = pd.DataFrame({\n",
    "    'ID': np.arange(1, len(Y_train_original) + 1),\n",
    "    'Value': Y_train_original\n",
    "})\n",
    "\n",
    "# Guardar el DataFrame en un archivo CSV\n",
    "df2.to_csv('kaggle_lr.csv', index=False)"
   ]
  }
 ],
 "metadata": {
  "kernelspec": {
   "display_name": "MLP2venv",
   "language": "python",
   "name": "python3"
  },
  "language_info": {
   "codemirror_mode": {
    "name": "ipython",
    "version": 3
   },
   "file_extension": ".py",
   "mimetype": "text/x-python",
   "name": "python",
   "nbconvert_exporter": "python",
   "pygments_lexer": "ipython3",
   "version": "3.12.3"
  }
 },
 "nbformat": 4,
 "nbformat_minor": 2
}
