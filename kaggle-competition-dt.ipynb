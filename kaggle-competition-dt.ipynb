{
 "cells": [
  {
   "cell_type": "code",
   "execution_count": 1,
   "metadata": {},
   "outputs": [],
   "source": [
    "import h5py\n",
    "import numpy as np\n",
    "import pandas as pd\n",
    "\n",
    "from sklearn.model_selection import train_test_split"
   ]
  },
  {
   "cell_type": "code",
   "execution_count": 2,
   "metadata": {},
   "outputs": [],
   "source": [
    "path = \"./processed-data/pyTS/rocket_full_trainset.csv\"\n",
    "selected_features = pd.read_csv(path, header=None)\n",
    "X_train = selected_features.values"
   ]
  },
  {
   "cell_type": "code",
   "execution_count": 4,
   "metadata": {},
   "outputs": [],
   "source": [
    "path = \"./processed-data/pyTS/kaggle_test_1000.csv\"\n",
    "X_test = pd.read_csv(path, header=None)\n",
    "X_test = X_test.values"
   ]
  },
  {
   "cell_type": "code",
   "execution_count": 6,
   "metadata": {},
   "outputs": [],
   "source": [
    "with h5py.File('./human-activity/train.h5', 'r') as f:\n",
    "  y = f['y'][()]\n",
    "\n",
    "target = pd.DataFrame(y, columns=['target'])\n",
    "y_train  = target[\"target\"]\n"
   ]
  },
  {
   "cell_type": "code",
   "execution_count": 7,
   "metadata": {},
   "outputs": [],
   "source": [
    "from models.dt import *"
   ]
  },
  {
   "cell_type": "code",
   "execution_count": 8,
   "metadata": {},
   "outputs": [],
   "source": [
    "from sklearn.decomposition import PCA\n",
    "\n",
    "n_components = 20\n",
    "pca = PCA(n_components=n_components)\n",
    "X_train_pca = pca.fit_transform(X_train)\n",
    "X_test_pca = pca.transform(X_test)\n",
    "\n",
    "# Entrena el clasificador\n",
    "dt = DT(X_train_pca, y_train)\n",
    "dt.create_DT()\n",
    "\n",
    "# Predecir con el árbol de decisión\n",
    "predictions = np.array([dt.predict(x) for x in X_test_pca])"
   ]
  },
  {
   "cell_type": "code",
   "execution_count": 9,
   "metadata": {},
   "outputs": [
    {
     "name": "stdout",
     "output_type": "stream",
     "text": [
      "Array guardado en output.csv con el formato especificado.\n"
     ]
    }
   ],
   "source": [
    "df = pd.DataFrame({\n",
    "    'ID': np.arange(1, len(predictions) + 1),\n",
    "    'Value': predictions\n",
    "})\n",
    "\n",
    "# Guardar el DataFrame en un archivo CSV\n",
    "df.to_csv('kaggle_dt.csv', index=False)\n",
    "\n",
    "print(\"Array guardado en output.csv con el formato especificado.\")"
   ]
  }
 ],
 "metadata": {
  "kernelspec": {
   "display_name": "env",
   "language": "python",
   "name": "python3"
  },
  "language_info": {
   "codemirror_mode": {
    "name": "ipython",
    "version": 3
   },
   "file_extension": ".py",
   "mimetype": "text/x-python",
   "name": "python",
   "nbconvert_exporter": "python",
   "pygments_lexer": "ipython3",
   "version": "3.10.12"
  }
 },
 "nbformat": 4,
 "nbformat_minor": 2
}
