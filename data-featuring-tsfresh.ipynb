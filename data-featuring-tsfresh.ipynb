{
 "cells": [
  {
   "cell_type": "markdown",
   "metadata": {},
   "source": [
    "# Libraries"
   ]
  },
  {
   "cell_type": "code",
   "execution_count": 17,
   "metadata": {},
   "outputs": [],
   "source": [
    "import h5py\n",
    "import matplotlib.pyplot as plt\n",
    "import numpy as np\n",
    "from sklearn.preprocessing import StandardScaler\n",
    "import pandas as pd\n",
    "\n",
    "from tsfresh import extract_relevant_features\n",
    "from tsfresh import extract_features\n",
    "from tsfresh import select_features\n",
    "\n",
    "\n",
    "from sklearn.tree import DecisionTreeClassifier\n",
    "from sklearn.model_selection import train_test_split\n",
    "from sklearn.metrics import classification_report\n",
    "from sklearn.svm import SVC\n",
    "from sklearn.neighbors import KNeighborsClassifier\n",
    "from sklearn.linear_model import LogisticRegression\n"
   ]
  },
  {
   "cell_type": "code",
   "execution_count": 18,
   "metadata": {},
   "outputs": [],
   "source": [
    "with h5py.File('./human-activity/train.h5', 'r') as f:\n",
    "  total_acc_x = f['total_acc_x'][()]\n",
    "  total_acc_y = f['total_acc_y'][()]\n",
    "  total_acc_z = f['total_acc_z'][()]\n",
    "\n",
    "  body_acc_x = f['body_acc_x'][()]\n",
    "  body_acc_y = f['body_acc_y'][()]\n",
    "  body_acc_z = f['body_acc_z'][()]\n",
    "\n",
    "  body_gyro_x = f['body_gyro_x'][()]\n",
    "  body_gyro_y = f['body_gyro_y'][()]\n",
    "  body_gyro_z = f['body_gyro_z'][()]\n",
    "\n",
    "\n",
    "  y = f['y'][()]"
   ]
  },
  {
   "cell_type": "markdown",
   "metadata": {},
   "source": [
    "# Formateando datos para la librería TSFresh "
   ]
  },
  {
   "cell_type": "code",
   "execution_count": 19,
   "metadata": {},
   "outputs": [
    {
     "data": {
      "text/html": [
       "<div>\n",
       "<style scoped>\n",
       "    .dataframe tbody tr th:only-of-type {\n",
       "        vertical-align: middle;\n",
       "    }\n",
       "\n",
       "    .dataframe tbody tr th {\n",
       "        vertical-align: top;\n",
       "    }\n",
       "\n",
       "    .dataframe thead th {\n",
       "        text-align: right;\n",
       "    }\n",
       "</style>\n",
       "<table border=\"1\" class=\"dataframe\">\n",
       "  <thead>\n",
       "    <tr style=\"text-align: right;\">\n",
       "      <th></th>\n",
       "      <th>body_gyro_x</th>\n",
       "      <th>id</th>\n",
       "      <th>time</th>\n",
       "      <th>body_gyro_y</th>\n",
       "      <th>body_gyro_z</th>\n",
       "    </tr>\n",
       "  </thead>\n",
       "  <tbody>\n",
       "    <tr>\n",
       "      <th>0</th>\n",
       "      <td>0.030191</td>\n",
       "      <td>0</td>\n",
       "      <td>0</td>\n",
       "      <td>0.066014</td>\n",
       "      <td>0.022859</td>\n",
       "    </tr>\n",
       "    <tr>\n",
       "      <th>1</th>\n",
       "      <td>0.043711</td>\n",
       "      <td>0</td>\n",
       "      <td>1</td>\n",
       "      <td>0.042699</td>\n",
       "      <td>0.010316</td>\n",
       "    </tr>\n",
       "    <tr>\n",
       "      <th>2</th>\n",
       "      <td>0.035688</td>\n",
       "      <td>0</td>\n",
       "      <td>2</td>\n",
       "      <td>0.074850</td>\n",
       "      <td>0.013250</td>\n",
       "    </tr>\n",
       "    <tr>\n",
       "      <th>3</th>\n",
       "      <td>0.040402</td>\n",
       "      <td>0</td>\n",
       "      <td>3</td>\n",
       "      <td>0.057320</td>\n",
       "      <td>0.017751</td>\n",
       "    </tr>\n",
       "    <tr>\n",
       "      <th>4</th>\n",
       "      <td>0.047097</td>\n",
       "      <td>0</td>\n",
       "      <td>4</td>\n",
       "      <td>0.052343</td>\n",
       "      <td>0.002553</td>\n",
       "    </tr>\n",
       "  </tbody>\n",
       "</table>\n",
       "</div>"
      ],
      "text/plain": [
       "   body_gyro_x  id  time  body_gyro_y  body_gyro_z\n",
       "0     0.030191   0     0     0.066014     0.022859\n",
       "1     0.043711   0     1     0.042699     0.010316\n",
       "2     0.035688   0     2     0.074850     0.013250\n",
       "3     0.040402   0     3     0.057320     0.017751\n",
       "4     0.047097   0     4     0.052343     0.002553"
      ]
     },
     "execution_count": 19,
     "metadata": {},
     "output_type": "execute_result"
    }
   ],
   "source": [
    "num_time_points = total_acc_x.shape[1]\n",
    "num_series = total_acc_x.shape[0]\n",
    "\n",
    "df = pd.DataFrame()\n",
    "time_index = np.tile(np.arange(num_time_points), num_series)\n",
    "\n",
    "def flatten_and_extend(name, data):\n",
    "    return pd.DataFrame({\n",
    "        name: data.flatten(), \n",
    "        'id': np.repeat(np.arange(num_series), num_time_points),  \n",
    "        'time': time_index  \n",
    "    })\n",
    "\n",
    "data_frames = [\n",
    "    flatten_and_extend('total_acc_x', total_acc_x),\n",
    "    flatten_and_extend('total_acc_y', total_acc_y),\n",
    "    flatten_and_extend('total_acc_z', total_acc_z),\n",
    "    flatten_and_extend('body_acc_x', body_acc_x),\n",
    "    flatten_and_extend('body_acc_y', body_acc_y),\n",
    "    flatten_and_extend('body_acc_z', body_acc_z),\n",
    "    flatten_and_extend('body_gyro_x', body_gyro_x),\n",
    "    flatten_and_extend('body_gyro_y', body_gyro_y),\n",
    "    flatten_and_extend('body_gyro_z', body_gyro_z)\n",
    "]\n",
    "\n",
    "df = pd.concat(data_frames, axis=1)\n",
    "df = df.loc[:,~df.columns.duplicated()]\n",
    "\n",
    "df.head()"
   ]
  },
  {
   "cell_type": "code",
   "execution_count": 20,
   "metadata": {},
   "outputs": [
    {
     "name": "stderr",
     "output_type": "stream",
     "text": [
      "Feature Extraction: 100%|██████████| 15/15 [15:11<00:00, 60.74s/it]\n"
     ]
    }
   ],
   "source": [
    "extracted_features = extract_features(df, column_id=\"id\", column_sort=\"time\")"
   ]
  },
  {
   "cell_type": "markdown",
   "metadata": {},
   "source": [
    "# Eliminando NA"
   ]
  },
  {
   "cell_type": "code",
   "execution_count": 21,
   "metadata": {},
   "outputs": [],
   "source": [
    "nans_per_column = extracted_features.isna().sum()\n",
    "columns_to_drop = nans_per_column[nans_per_column > 0].index\n",
    "extracted_features = extracted_features.drop(columns=columns_to_drop)"
   ]
  },
  {
   "cell_type": "code",
   "execution_count": 23,
   "metadata": {},
   "outputs": [],
   "source": [
    "target = pd.DataFrame(y, columns=['target'])\n",
    "target  = target[\"target\"]"
   ]
  },
  {
   "cell_type": "code",
   "execution_count": 24,
   "metadata": {},
   "outputs": [],
   "source": [
    "selected_features = select_features(extracted_features, target)"
   ]
  },
  {
   "cell_type": "code",
   "execution_count": 25,
   "metadata": {},
   "outputs": [],
   "source": [
    "selected_features.to_csv('./processed-data/TSFresh/selected_features_all.csv', index=True)"
   ]
  },
  {
   "cell_type": "markdown",
   "metadata": {},
   "source": [
    "# Test Usando Librerías"
   ]
  },
  {
   "cell_type": "code",
   "execution_count": 26,
   "metadata": {},
   "outputs": [],
   "source": [
    "X_train, X_test, y_train, y_test = train_test_split(selected_features, target, test_size=.4)"
   ]
  },
  {
   "cell_type": "code",
   "execution_count": 27,
   "metadata": {},
   "outputs": [
    {
     "name": "stdout",
     "output_type": "stream",
     "text": [
      "              precision    recall  f1-score   support\n",
      "\n",
      "         1.0       0.90      0.88      0.89       498\n",
      "         2.0       0.89      0.87      0.88       446\n",
      "         3.0       0.80      0.84      0.82       403\n",
      "         4.0       0.64      0.63      0.63       532\n",
      "         5.0       0.66      0.63      0.65       541\n",
      "         6.0       0.57      0.60      0.59       521\n",
      "\n",
      "    accuracy                           0.73      2941\n",
      "   macro avg       0.74      0.74      0.74      2941\n",
      "weighted avg       0.74      0.73      0.73      2941\n",
      "\n"
     ]
    }
   ],
   "source": [
    "classifier = DecisionTreeClassifier()\n",
    "classifier.fit(X_train, y_train)\n",
    "print(classification_report(y_test, classifier.predict(X_test)))"
   ]
  },
  {
   "cell_type": "code",
   "execution_count": 28,
   "metadata": {},
   "outputs": [
    {
     "name": "stdout",
     "output_type": "stream",
     "text": [
      "              precision    recall  f1-score   support\n",
      "\n",
      "         1.0       0.59      0.92      0.72       498\n",
      "         2.0       0.75      0.58      0.65       446\n",
      "         3.0       0.74      0.40      0.52       403\n",
      "         4.0       0.71      0.25      0.37       532\n",
      "         5.0       0.48      0.66      0.55       541\n",
      "         6.0       0.48      0.60      0.53       521\n",
      "\n",
      "    accuracy                           0.57      2941\n",
      "   macro avg       0.62      0.57      0.56      2941\n",
      "weighted avg       0.61      0.57      0.55      2941\n",
      "\n"
     ]
    }
   ],
   "source": [
    "SVCclassifier = SVC()\n",
    "SVCclassifier.fit(X_train, y_train)\n",
    "print(classification_report(y_test, SVCclassifier.predict(X_test)))"
   ]
  },
  {
   "cell_type": "code",
   "execution_count": 29,
   "metadata": {},
   "outputs": [
    {
     "name": "stdout",
     "output_type": "stream",
     "text": [
      "              precision    recall  f1-score   support\n",
      "\n",
      "         1.0       0.32      0.56      0.41       498\n",
      "         2.0       0.34      0.37      0.35       446\n",
      "         3.0       0.31      0.24      0.27       403\n",
      "         4.0       0.59      0.48      0.53       532\n",
      "         5.0       0.44      0.28      0.34       541\n",
      "         6.0       0.53      0.49      0.51       521\n",
      "\n",
      "    accuracy                           0.41      2941\n",
      "   macro avg       0.42      0.40      0.40      2941\n",
      "weighted avg       0.43      0.41      0.41      2941\n",
      "\n"
     ]
    }
   ],
   "source": [
    "KNNclassifier = KNeighborsClassifier()\n",
    "KNNclassifier.fit(X_train, y_train)\n",
    "\n",
    "print(classification_report(y_test, KNNclassifier.predict(X_test)))"
   ]
  },
  {
   "cell_type": "code",
   "execution_count": 30,
   "metadata": {},
   "outputs": [
    {
     "name": "stdout",
     "output_type": "stream",
     "text": [
      "              precision    recall  f1-score   support\n",
      "\n",
      "         1.0       0.90      0.90      0.90       498\n",
      "         2.0       0.85      0.87      0.86       446\n",
      "         3.0       0.83      0.81      0.82       403\n",
      "         4.0       0.62      0.55      0.58       532\n",
      "         5.0       0.54      0.57      0.55       541\n",
      "         6.0       0.54      0.57      0.56       521\n",
      "\n",
      "    accuracy                           0.70      2941\n",
      "   macro avg       0.71      0.71      0.71      2941\n",
      "weighted avg       0.70      0.70      0.70      2941\n",
      "\n"
     ]
    },
    {
     "name": "stderr",
     "output_type": "stream",
     "text": [
      "/home/sanders/2024_1/ml-project-2/env/lib/python3.10/site-packages/sklearn/linear_model/_logistic.py:469: ConvergenceWarning: lbfgs failed to converge (status=1):\n",
      "STOP: TOTAL NO. of ITERATIONS REACHED LIMIT.\n",
      "\n",
      "Increase the number of iterations (max_iter) or scale the data as shown in:\n",
      "    https://scikit-learn.org/stable/modules/preprocessing.html\n",
      "Please also refer to the documentation for alternative solver options:\n",
      "    https://scikit-learn.org/stable/modules/linear_model.html#logistic-regression\n",
      "  n_iter_i = _check_optimize_result(\n"
     ]
    }
   ],
   "source": [
    "classifier = LogisticRegression()\n",
    "classifier.fit(X_train, y_train)\n",
    "print(classification_report(y_test, classifier.predict(X_test)))"
   ]
  }
 ],
 "metadata": {
  "kernelspec": {
   "display_name": "env",
   "language": "python",
   "name": "python3"
  },
  "language_info": {
   "codemirror_mode": {
    "name": "ipython",
    "version": 3
   },
   "file_extension": ".py",
   "mimetype": "text/x-python",
   "name": "python",
   "nbconvert_exporter": "python",
   "pygments_lexer": "ipython3",
   "version": "3.10.12"
  }
 },
 "nbformat": 4,
 "nbformat_minor": 2
}
