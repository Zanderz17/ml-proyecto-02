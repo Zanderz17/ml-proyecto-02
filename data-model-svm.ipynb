{
 "cells": [
  {
   "cell_type": "code",
   "execution_count": 1,
   "metadata": {},
   "outputs": [],
   "source": [
    "import h5py\n",
    "import numpy as np\n",
    "import pandas as pd\n",
    "\n",
    "from sklearn.model_selection import train_test_split"
   ]
  },
  {
   "cell_type": "code",
   "execution_count": 2,
   "metadata": {},
   "outputs": [],
   "source": [
    "path = \"./processed-data/TSFresh/selected_features_all.csv\"\n",
    "selected_features = pd.read_csv(path, header='infer')\n",
    "selected_features = selected_features.values"
   ]
  },
  {
   "cell_type": "code",
   "execution_count": 3,
   "metadata": {},
   "outputs": [],
   "source": [
    "with h5py.File('./human-activity/train.h5', 'r') as f:\n",
    "  y = f['y'][()]\n",
    "\n",
    "target = pd.DataFrame(y, columns=['target'])\n",
    "target  = target[\"target\"]"
   ]
  },
  {
   "cell_type": "code",
   "execution_count": 4,
   "metadata": {},
   "outputs": [],
   "source": [
    "seed = 42\n",
    "X_train, X_test, y_train, y_test = train_test_split(selected_features, target, test_size=0.2, random_state=seed)"
   ]
  },
  {
   "cell_type": "code",
   "execution_count": 5,
   "metadata": {},
   "outputs": [],
   "source": [
    "y_train = y_train.values"
   ]
  },
  {
   "cell_type": "markdown",
   "metadata": {},
   "source": [
    "# SVM"
   ]
  },
  {
   "cell_type": "code",
   "execution_count": 6,
   "metadata": {},
   "outputs": [],
   "source": [
    "from models.svm import *"
   ]
  },
  {
   "cell_type": "code",
   "execution_count": 7,
   "metadata": {},
   "outputs": [
    {
     "name": "stdout",
     "output_type": "stream",
     "text": [
      "Componentes: 10, Accuracy: 22.50%, Tiempo: 28.54 segundos\n",
      "Componentes: 20, Accuracy: 23.32%, Tiempo: 34.73 segundos\n",
      "Componentes: 30, Accuracy: 27.67%, Tiempo: 65.08 segundos\n",
      "Componentes: 40, Accuracy: 23.25%, Tiempo: 96.70 segundos\n",
      "Componentes: 50, Accuracy: 16.32%, Tiempo: 79.20 segundos\n",
      "Componentes: 60, Accuracy: 24.00%, Tiempo: 92.87 segundos\n",
      "Componentes: 70, Accuracy: 24.47%, Tiempo: 131.97 segundos\n",
      "Componentes: 80, Accuracy: 24.07%, Tiempo: 107.90 segundos\n",
      "Componentes: 90, Accuracy: 23.59%, Tiempo: 102.65 segundos\n",
      "Componentes: 100, Accuracy: 23.11%, Tiempo: 4103.78 segundos\n",
      "Resultados guardados en accuracy_results.csv\n"
     ]
    }
   ],
   "source": [
    "import time\n",
    "from sklearn.decomposition import PCA\n",
    "\n",
    "num_classes = len(np.unique(y))\n",
    "C = 1.0\n",
    "alpha = 0.01\n",
    "epochs = 5000\n",
    "\n",
    "np.random.seed(2024)\n",
    "\n",
    "# Crea un archivo CSV y escribe el encabezado\n",
    "with open('accuracy_results_svm.csv', 'w') as f:\n",
    "    f.write('n_components,accuracy,time\\n')\n",
    "\n",
    "# Varia el número de componentes desde 10 hasta 100 de 10 en 10\n",
    "for n_components in range(10, 101, 10):\n",
    "    start_time = time.time()\n",
    "    \n",
    "    # Aplica PCA\n",
    "    pca = PCA(n_components=n_components)\n",
    "    X_train_pca = pca.fit_transform(X_train)\n",
    "    X_test_pca = pca.transform(X_test)\n",
    "\n",
    "    # Entrena el clasificador\n",
    "    classifier = training_multiclass(X_train_pca, y_train, C, alpha, epochs, num_classes)\n",
    "    Y_pred = testing(X_test_pca, classifier)\n",
    "\n",
    "    accuracy = sum(Y_pred == y_test) / len(y_test) * 100\n",
    "\n",
    "    # Calcula el tiempo de ejecución\n",
    "    end_time = time.time()\n",
    "    elapsed_time = end_time - start_time\n",
    "\n",
    "    # Guarda los resultados en el archivo CSV\n",
    "    with open('accuracy_results_svm.csv', 'a') as f:\n",
    "        f.write(f'{n_components},{accuracy},{elapsed_time}\\n')\n",
    "\n",
    "    print(f'Componentes: {n_components}, Accuracy: {accuracy:.2f}%, Tiempo: {elapsed_time:.2f} segundos')\n",
    "\n",
    "print(\"Resultados guardados en accuracy_results.csv\")"
   ]
  }
 ],
 "metadata": {
  "kernelspec": {
   "display_name": "env",
   "language": "python",
   "name": "python3"
  },
  "language_info": {
   "codemirror_mode": {
    "name": "ipython",
    "version": 3
   },
   "file_extension": ".py",
   "mimetype": "text/x-python",
   "name": "python",
   "nbconvert_exporter": "python",
   "pygments_lexer": "ipython3",
   "version": "3.10.12"
  }
 },
 "nbformat": 4,
 "nbformat_minor": 2
}
