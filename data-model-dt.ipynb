{
 "cells": [
  {
   "cell_type": "markdown",
   "metadata": {
    "vscode": {
     "languageId": "bat"
    }
   },
   "source": [
    "## Libraries"
   ]
  },
  {
   "cell_type": "code",
   "execution_count": 1,
   "metadata": {},
   "outputs": [],
   "source": [
    "import h5py\n",
    "import matplotlib.pyplot as plt\n",
    "import numpy as np\n",
    "import pandas as pd\n",
    "\n",
    "from sklearn.model_selection import train_test_split"
   ]
  },
  {
   "cell_type": "markdown",
   "metadata": {},
   "source": [
    "# Read Data (extract_features)"
   ]
  },
  {
   "cell_type": "code",
   "execution_count": 2,
   "metadata": {},
   "outputs": [],
   "source": [
    "path = \"./processed-data/pyTS/rocket_full_trainset.csv\"\n",
    "selected_features = pd.read_csv(path, header=None)\n",
    "selected_features = selected_features.values"
   ]
  },
  {
   "cell_type": "code",
   "execution_count": 3,
   "metadata": {},
   "outputs": [],
   "source": [
    "with h5py.File('./human-activity/train.h5', 'r') as f:\n",
    "  y = f['y'][()]\n",
    "\n",
    "target = pd.DataFrame(y, columns=['target'])\n",
    "target  = target[\"target\"]\n",
    "#target = target.values.reshape(-1,1)"
   ]
  },
  {
   "cell_type": "code",
   "execution_count": 4,
   "metadata": {},
   "outputs": [],
   "source": [
    "seed = 42\n",
    "X_train, X_test, y_train, y_test = train_test_split(selected_features, target, test_size=0.2, random_state=seed)"
   ]
  },
  {
   "cell_type": "markdown",
   "metadata": {},
   "source": [
    "# MODEL"
   ]
  },
  {
   "cell_type": "code",
   "execution_count": 5,
   "metadata": {},
   "outputs": [],
   "source": [
    "from models.dt import *"
   ]
  },
  {
   "cell_type": "code",
   "execution_count": null,
   "metadata": {},
   "outputs": [],
   "source": [
    "import time\n",
    "from sklearn.decomposition import PCA\n",
    "\n",
    "# Crear un archivo CSV y escribir el encabezado\n",
    "with open('accuracy_results_dt.csv', 'w') as f:\n",
    "    f.write('n_components,accuracy,time\\n')\n",
    "\n",
    "# Variar el número de componentes desde 10 hasta 100 de 10 en 10\n",
    "for n_components in range(10, 11, 10):\n",
    "    start_time = time.time()\n",
    "    \n",
    "    # Aplicar PCA\n",
    "    pca = PCA(n_components=n_components)\n",
    "    X_train_pca = pca.fit_transform(X_train)\n",
    "    X_test_pca = pca.transform(X_test)\n",
    "\n",
    "    # Entrenar el árbol de decisión\n",
    "    dt = DT(X_train_pca, y_train)\n",
    "    dt.create_DT()\n",
    "\n",
    "    # Predecir con el árbol de decisión\n",
    "    predictions = np.array([dt.predict(x) for x in X_test_pca])\n",
    "\n",
    "    # Calcular el accuracy\n",
    "    accuracy = sum(predictions == y_test) / len(y_test) * 100\n",
    "\n",
    "    # Calcular el tiempo de ejecución\n",
    "    end_time = time.time()\n",
    "    elapsed_time = end_time - start_time\n",
    "\n",
    "    # Guardar los resultados en el archivo CSV\n",
    "    with open('accuracy_results_dt.csv', 'a') as f:\n",
    "        f.write(f'{n_components},{accuracy:.2f},{elapsed_time:.2f}\\n')\n",
    "\n",
    "    print(f'Componentes: {n_components}, Accuracy: {accuracy:.2f}%, Tiempo: {elapsed_time:.2f} segundos')\n",
    "\n",
    "print(\"Resultados guardados en 'accuracy_results_dt.csv'\")\n"
   ]
  },
  {
   "cell_type": "code",
   "execution_count": 7,
   "metadata": {},
   "outputs": [],
   "source": [
    "n_components = 20\n",
    "\n",
    "pca = PCA(n_components=n_components)\n",
    "X_train_pca = pca.fit_transform(X_train)\n",
    "X_test_pca = pca.transform(X_test)\n",
    "\n",
    "# Entrenar el árbol de decisión\n",
    "dt = DT(X_train_pca, y_train)\n",
    "dt.create_DT()\n",
    "\n",
    "# Predecir con el árbol de decisión\n",
    "predictions = np.array([dt.predict(x) for x in X_test_pca])"
   ]
  },
  {
   "cell_type": "code",
   "execution_count": null,
   "metadata": {},
   "outputs": [],
   "source": [
    "from sklearn.metrics import confusion_matrix\n",
    "import seaborn as sns\n",
    "import pandas as pd\n",
    "import numpy as np\n",
    "import matplotlib.pyplot as plt\n",
    "\n",
    "\n",
    "def matriz_confusion(y_pred, Tipo, y_test):\n",
    "    matrix = confusion_matrix(y_test, y_pred)\n",
    "    print(matrix)\n",
    "    etiquetas = [\"WALKING\", 'WALKING_UPSTAIRS', 'WALKING_DOWNSTAIRS', 'SITTING', 'STANDING', 'LAYING']\n",
    "    f2 = pd.DataFrame(matrix, index=etiquetas, columns=etiquetas)\n",
    "    \n",
    "    plt.figure(figsize=(10, 7))  \n",
    "    ax = sns.heatmap(f2, annot=True, cbar=True, cmap=\"YlGnBu\", fmt='d', linewidths=.5, linecolor='black')  # Mostrar los números como enteros y añadir líneas de separación\n",
    "    \n",
    "    plt.title(\"Confusion Matrix \" + Tipo)\n",
    "    plt.xlabel(\"Predicted\")\n",
    "    plt.ylabel(\"Real\")\n",
    "    plt.tight_layout()\n",
    "    plt.show()\n",
    "\n",
    "    \n",
    "matriz_confusion(predictions, \"DT\", y_test)\n"
   ]
  }
 ],
 "metadata": {
  "kernelspec": {
   "display_name": "env",
   "language": "python",
   "name": "python3"
  },
  "language_info": {
   "codemirror_mode": {
    "name": "ipython",
    "version": 3
   },
   "file_extension": ".py",
   "mimetype": "text/x-python",
   "name": "python",
   "nbconvert_exporter": "python",
   "pygments_lexer": "ipython3",
   "version": "3.10.12"
  }
 },
 "nbformat": 4,
 "nbformat_minor": 2
}
